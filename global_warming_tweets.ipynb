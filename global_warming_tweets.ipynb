{
  "nbformat": 4,
  "nbformat_minor": 0,
  "metadata": {
    "colab": {
      "name": "global_warming_tweets.ipynb",
      "provenance": [],
      "toc_visible": true,
      "mount_file_id": "1eJNa5-0LwPzWlbhjXuAWwN-NnID8cKwG",
      "authorship_tag": "ABX9TyNh2w+0akw/qlxNcG1e8wN4",
      "include_colab_link": true
    },
    "kernelspec": {
      "name": "python3",
      "display_name": "Python 3"
    },
    "language_info": {
      "name": "python"
    }
  },
  "cells": [
    {
      "cell_type": "markdown",
      "metadata": {
        "id": "view-in-github",
        "colab_type": "text"
      },
      "source": [
        "<a href=\"https://colab.research.google.com/github/Olayile/Climate_change_belief/blob/master/global_warming_tweets.ipynb\" target=\"_parent\"><img src=\"https://colab.research.google.com/assets/colab-badge.svg\" alt=\"Open In Colab\"/></a>"
      ]
    },
    {
      "cell_type": "code",
      "metadata": {
        "id": "N0insduOeNXF"
      },
      "source": [
        "import pandas as pd\n",
        "import numpy as np\n",
        "import matplotlib.pyplot as plt\n",
        "import re\n",
        "import nltk\n",
        "import seaborn as sns"
      ],
      "execution_count": null,
      "outputs": []
    },
    {
      "cell_type": "markdown",
      "metadata": {
        "id": "AvBDFsM1gyZP"
      },
      "source": [
        "## Desription \n",
        "\n",
        "- 2 News: the tweet links to factual news about climate change \n",
        "- 1 Pro: the tweet supports the belief of man-made climate change \n",
        "- 0 Neutral: the tweet neither supports nor refutes the belief of man-made climate change\n",
        "- -1 Anti: the tweet does not believe in man-made climate change"
      ]
    },
    {
      "cell_type": "code",
      "metadata": {
        "id": "yDHmABBOgwvZ"
      },
      "source": [
        ""
      ],
      "execution_count": null,
      "outputs": []
    },
    {
      "cell_type": "code",
      "metadata": {
        "id": "5jST9fH0fYYp"
      },
      "source": [
        "train = pd.read_csv('/content/drive/MyDrive/twee_analysis_EDSA/train.csv')\n",
        "test = pd.read_csv('/content/drive/MyDrive/twee_analysis_EDSA/test.csv')\n",
        "sub = pd.read_csv('/content/drive/MyDrive/twee_analysis_EDSA/sample_submission.csv')\n"
      ],
      "execution_count": null,
      "outputs": []
    },
    {
      "cell_type": "code",
      "metadata": {
        "colab": {
          "base_uri": "https://localhost:8080/"
        },
        "id": "7E3TnHeAf24S",
        "outputId": "d1cc6a90-9f77-4a0e-bcfa-41c265b6505d"
      },
      "source": [
        "train.isnull().sum()"
      ],
      "execution_count": null,
      "outputs": [
        {
          "output_type": "execute_result",
          "data": {
            "text/plain": [
              "sentiment    0\n",
              "message      0\n",
              "tweetid      0\n",
              "dtype: int64"
            ]
          },
          "metadata": {
            "tags": []
          },
          "execution_count": 3
        }
      ]
    },
    {
      "cell_type": "code",
      "metadata": {
        "colab": {
          "base_uri": "https://localhost:8080/",
          "height": 313
        },
        "id": "zEIYstbwgcgZ",
        "outputId": "bee29a73-5fe4-475e-f94b-14fbcea4777b"
      },
      "source": [
        "# Checking  sentiment\n",
        "\n",
        "sent = pd.crosstab(index = train['sentiment'], columns = 'count')\n",
        "plt.figure(figsize=(50,50))\n",
        "sent.plot.bar(color = 'salmon')"
      ],
      "execution_count": null,
      "outputs": [
        {
          "output_type": "execute_result",
          "data": {
            "text/plain": [
              "<matplotlib.axes._subplots.AxesSubplot at 0x7f9fe2fc3b10>"
            ]
          },
          "metadata": {
            "tags": []
          },
          "execution_count": 4
        },
        {
          "output_type": "display_data",
          "data": {
            "text/plain": [
              "<Figure size 3600x3600 with 0 Axes>"
            ]
          },
          "metadata": {
            "tags": []
          }
        },
        {
          "output_type": "display_data",
          "data": {
            "image/png": "[encoded data removed]",
            "text/plain": [
              "<Figure size 432x288 with 1 Axes>"
            ]
          },
          "metadata": {
            "tags": [],
            "needs_background": "light"
          }
        }
      ]
    },
    {
      "cell_type": "code",
      "metadata": {
        "id": "vgd34FCihPnV"
      },
      "source": [
        "# cleaning tweets\n",
        "\n",
        "def clean_text(df, text_field):\n",
        "    df[text_field] = df[text_field].str.replace(r\"[^a-zA-Z]\", \" \")\n",
        "    df[text_field] = df[text_field].str.replace(r\"http\\S+\", \"\") #remove https\n",
        "    df[text_field] = df[text_field].str.replace(r\"http\", \"\")\n",
        "    df[text_field] = df[text_field].str.replace(r\"@\\S+\", \"\")\n",
        "    df[text_field] = df[text_field].str.replace(r\"[^A-Za-z0-9(),!?@\\'\\`\\\"\\_\\n]\", \" \")\n",
        "    df[text_field] = df[text_field].str.replace(r\"@\", \"at\")\n",
        "    df[text_field] = df[text_field].str.lower() # change tweet ro lower case\n",
        "    return df"
      ],
      "execution_count": null,
      "outputs": []
    },
    {
      "cell_type": "code",
      "metadata": {
        "id": "YvXxxuPSh6O3"
      },
      "source": [
        "\n",
        "train_clean = clean_text(train, 'message' )\n",
        "test_clean = clean_text(test, \"message\")"
      ],
      "execution_count": null,
      "outputs": []
    },
    {
      "cell_type": "code",
      "metadata": {
        "colab": {
          "base_uri": "https://localhost:8080/",
          "height": 416
        },
        "id": "lwTVmLFhkJv7",
        "outputId": "50998b9b-d66b-477c-f616-36a1dd24d368"
      },
      "source": [
        "train_clean"
      ],
      "execution_count": null,
      "outputs": [
        {
          "output_type": "execute_result",
          "data": {
            "text/html": [
              "<div>\n",
              "<style scoped>\n",
              "    .dataframe tbody tr th:only-of-type {\n",
              "        vertical-align: middle;\n",
              "    }\n",
              "\n",
              "    .dataframe tbody tr th {\n",
              "        vertical-align: top;\n",
              "    }\n",
              "\n",
              "    .dataframe thead th {\n",
              "        text-align: right;\n",
              "    }\n",
              "</style>\n",
              "<table border=\"1\" class=\"dataframe\">\n",
              "  <thead>\n",
              "    <tr style=\"text-align: right;\">\n",
              "      <th></th>\n",
              "      <th>sentiment</th>\n",
              "      <th>message</th>\n",
              "      <th>tweetid</th>\n",
              "    </tr>\n",
              "  </thead>\n",
              "  <tbody>\n",
              "    <tr>\n",
              "      <th>0</th>\n",
              "      <td>1</td>\n",
              "      <td>polyscimajor epa chief doesn t think carbon di...</td>\n",
              "      <td>625221</td>\n",
              "    </tr>\n",
              "    <tr>\n",
              "      <th>1</th>\n",
              "      <td>1</td>\n",
              "      <td>it s not like we lack evidence of anthropogeni...</td>\n",
              "      <td>126103</td>\n",
              "    </tr>\n",
              "    <tr>\n",
              "      <th>2</th>\n",
              "      <td>2</td>\n",
              "      <td>rt  rawstory  researchers say we have three ye...</td>\n",
              "      <td>698562</td>\n",
              "    </tr>\n",
              "    <tr>\n",
              "      <th>3</th>\n",
              "      <td>1</td>\n",
              "      <td>todayinmaker  wired        was a pivotal year...</td>\n",
              "      <td>573736</td>\n",
              "    </tr>\n",
              "    <tr>\n",
              "      <th>4</th>\n",
              "      <td>1</td>\n",
              "      <td>rt  soynoviodetodas  it s       and a racist  ...</td>\n",
              "      <td>466954</td>\n",
              "    </tr>\n",
              "    <tr>\n",
              "      <th>...</th>\n",
              "      <td>...</td>\n",
              "      <td>...</td>\n",
              "      <td>...</td>\n",
              "    </tr>\n",
              "    <tr>\n",
              "      <th>15814</th>\n",
              "      <td>1</td>\n",
              "      <td>rt  ezlusztig  they took down the material on ...</td>\n",
              "      <td>22001</td>\n",
              "    </tr>\n",
              "    <tr>\n",
              "      <th>15815</th>\n",
              "      <td>2</td>\n",
              "      <td>rt  washingtonpost  how climate change could b...</td>\n",
              "      <td>17856</td>\n",
              "    </tr>\n",
              "    <tr>\n",
              "      <th>15816</th>\n",
              "      <td>0</td>\n",
              "      <td>notiven  rt  nytimesworld  what does trump act...</td>\n",
              "      <td>384248</td>\n",
              "    </tr>\n",
              "    <tr>\n",
              "      <th>15817</th>\n",
              "      <td>-1</td>\n",
              "      <td>rt  sara smiles  hey liberals the climate chan...</td>\n",
              "      <td>819732</td>\n",
              "    </tr>\n",
              "    <tr>\n",
              "      <th>15818</th>\n",
              "      <td>0</td>\n",
              "      <td>rt  chet cannon    kurteichenwald s  climate c...</td>\n",
              "      <td>806319</td>\n",
              "    </tr>\n",
              "  </tbody>\n",
              "</table>\n",
              "<p>15819 rows × 3 columns</p>\n",
              "</div>"
            ],
            "text/plain": [
              "       sentiment                                            message  tweetid\n",
              "0              1  polyscimajor epa chief doesn t think carbon di...   625221\n",
              "1              1  it s not like we lack evidence of anthropogeni...   126103\n",
              "2              2  rt  rawstory  researchers say we have three ye...   698562\n",
              "3              1   todayinmaker  wired        was a pivotal year...   573736\n",
              "4              1  rt  soynoviodetodas  it s       and a racist  ...   466954\n",
              "...          ...                                                ...      ...\n",
              "15814          1  rt  ezlusztig  they took down the material on ...    22001\n",
              "15815          2  rt  washingtonpost  how climate change could b...    17856\n",
              "15816          0  notiven  rt  nytimesworld  what does trump act...   384248\n",
              "15817         -1  rt  sara smiles  hey liberals the climate chan...   819732\n",
              "15818          0  rt  chet cannon    kurteichenwald s  climate c...   806319\n",
              "\n",
              "[15819 rows x 3 columns]"
            ]
          },
          "metadata": {
            "tags": []
          },
          "execution_count": 7
        }
      ]
    },
    {
      "cell_type": "code",
      "metadata": {
        "id": "9rSb8VoNl5ct"
      },
      "source": [
        "# explore relationship between existence and tweet length\n",
        "for df in [train_clean, test_clean]:\n",
        "  df['tweet_len'] = df['message'].apply(len)"
      ],
      "execution_count": null,
      "outputs": []
    },
    {
      "cell_type": "code",
      "metadata": {
        "colab": {
          "base_uri": "https://localhost:8080/",
          "height": 416
        },
        "id": "RQFKeeYumlUC",
        "outputId": "589e43fb-59f7-4754-878e-fb67e6cfe78a"
      },
      "source": [
        "train_clean"
      ],
      "execution_count": null,
      "outputs": [
        {
          "output_type": "execute_result",
          "data": {
            "text/html": [
              "<div>\n",
              "<style scoped>\n",
              "    .dataframe tbody tr th:only-of-type {\n",
              "        vertical-align: middle;\n",
              "    }\n",
              "\n",
              "    .dataframe tbody tr th {\n",
              "        vertical-align: top;\n",
              "    }\n",
              "\n",
              "    .dataframe thead th {\n",
              "        text-align: right;\n",
              "    }\n",
              "</style>\n",
              "<table border=\"1\" class=\"dataframe\">\n",
              "  <thead>\n",
              "    <tr style=\"text-align: right;\">\n",
              "      <th></th>\n",
              "      <th>sentiment</th>\n",
              "      <th>message</th>\n",
              "      <th>tweetid</th>\n",
              "      <th>tweet_len</th>\n",
              "    </tr>\n",
              "  </thead>\n",
              "  <tbody>\n",
              "    <tr>\n",
              "      <th>0</th>\n",
              "      <td>1</td>\n",
              "      <td>polyscimajor epa chief doesn t think carbon di...</td>\n",
              "      <td>625221</td>\n",
              "      <td>135</td>\n",
              "    </tr>\n",
              "    <tr>\n",
              "      <th>1</th>\n",
              "      <td>1</td>\n",
              "      <td>it s not like we lack evidence of anthropogeni...</td>\n",
              "      <td>126103</td>\n",
              "      <td>62</td>\n",
              "    </tr>\n",
              "    <tr>\n",
              "      <th>2</th>\n",
              "      <td>2</td>\n",
              "      <td>rt  rawstory  researchers say we have three ye...</td>\n",
              "      <td>698562</td>\n",
              "      <td>130</td>\n",
              "    </tr>\n",
              "    <tr>\n",
              "      <th>3</th>\n",
              "      <td>1</td>\n",
              "      <td>todayinmaker  wired        was a pivotal year...</td>\n",
              "      <td>573736</td>\n",
              "      <td>94</td>\n",
              "    </tr>\n",
              "    <tr>\n",
              "      <th>4</th>\n",
              "      <td>1</td>\n",
              "      <td>rt  soynoviodetodas  it s       and a racist  ...</td>\n",
              "      <td>466954</td>\n",
              "      <td>122</td>\n",
              "    </tr>\n",
              "    <tr>\n",
              "      <th>...</th>\n",
              "      <td>...</td>\n",
              "      <td>...</td>\n",
              "      <td>...</td>\n",
              "      <td>...</td>\n",
              "    </tr>\n",
              "    <tr>\n",
              "      <th>15814</th>\n",
              "      <td>1</td>\n",
              "      <td>rt  ezlusztig  they took down the material on ...</td>\n",
              "      <td>22001</td>\n",
              "      <td>135</td>\n",
              "    </tr>\n",
              "    <tr>\n",
              "      <th>15815</th>\n",
              "      <td>2</td>\n",
              "      <td>rt  washingtonpost  how climate change could b...</td>\n",
              "      <td>17856</td>\n",
              "      <td>114</td>\n",
              "    </tr>\n",
              "    <tr>\n",
              "      <th>15816</th>\n",
              "      <td>0</td>\n",
              "      <td>notiven  rt  nytimesworld  what does trump act...</td>\n",
              "      <td>384248</td>\n",
              "      <td>128</td>\n",
              "    </tr>\n",
              "    <tr>\n",
              "      <th>15817</th>\n",
              "      <td>-1</td>\n",
              "      <td>rt  sara smiles  hey liberals the climate chan...</td>\n",
              "      <td>819732</td>\n",
              "      <td>128</td>\n",
              "    </tr>\n",
              "    <tr>\n",
              "      <th>15818</th>\n",
              "      <td>0</td>\n",
              "      <td>rt  chet cannon    kurteichenwald s  climate c...</td>\n",
              "      <td>806319</td>\n",
              "      <td>97</td>\n",
              "    </tr>\n",
              "  </tbody>\n",
              "</table>\n",
              "<p>15819 rows × 4 columns</p>\n",
              "</div>"
            ],
            "text/plain": [
              "       sentiment  ... tweet_len\n",
              "0              1  ...       135\n",
              "1              1  ...        62\n",
              "2              2  ...       130\n",
              "3              1  ...        94\n",
              "4              1  ...       122\n",
              "...          ...  ...       ...\n",
              "15814          1  ...       135\n",
              "15815          2  ...       114\n",
              "15816          0  ...       128\n",
              "15817         -1  ...       128\n",
              "15818          0  ...        97\n",
              "\n",
              "[15819 rows x 4 columns]"
            ]
          },
          "metadata": {
            "tags": []
          },
          "execution_count": 9
        }
      ]
    },
    {
      "cell_type": "code",
      "metadata": {
        "colab": {
          "base_uri": "https://localhost:8080/",
          "height": 460
        },
        "id": "iFCettNZmy62",
        "outputId": "22e5a9f8-67ee-4fa4-a34d-b517341e8e99"
      },
      "source": [
        "plt.figure(figsize=(10, 6))\n",
        "sns.boxplot(train_clean['sentiment'], train_clean['tweet_len'])"
      ],
      "execution_count": null,
      "outputs": [
        {
          "output_type": "stream",
          "text": [
            "/usr/local/lib/python3.7/dist-packages/seaborn/_decorators.py:43: FutureWarning: Pass the following variables as keyword args: x, y. From version 0.12, the only valid positional argument will be `data`, and passing other arguments without an explicit keyword will result in an error or misinterpretation.\n",
            "  FutureWarning\n"
          ],
          "name": "stderr"
        },
        {
          "output_type": "execute_result",
          "data": {
            "text/plain": [
              "<matplotlib.axes._subplots.AxesSubplot at 0x7f9fe40df090>"
            ]
          },
          "metadata": {
            "tags": []
          },
          "execution_count": 10
        },
        {
          "output_type": "display_data",
          "data": {
            "image/png": "[encoded data removed]",
            "text/plain": [
              "<Figure size 720x432 with 1 Axes>"
            ]
          },
          "metadata": {
            "tags": [],
            "needs_background": "light"
          }
        }
      ]
    },
    {
      "cell_type": "code",
      "metadata": {
        "colab": {
          "base_uri": "https://localhost:8080/",
          "height": 141
        },
        "id": "MYvbjO0cpav1",
        "outputId": "b19c9c41-dc40-42b2-c2b2-5c43b2d16ab2"
      },
      "source": [
        "train_clean.corr()"
      ],
      "execution_count": null,
      "outputs": [
        {
          "output_type": "execute_result",
          "data": {
            "text/html": [
              "<div>\n",
              "<style scoped>\n",
              "    .dataframe tbody tr th:only-of-type {\n",
              "        vertical-align: middle;\n",
              "    }\n",
              "\n",
              "    .dataframe tbody tr th {\n",
              "        vertical-align: top;\n",
              "    }\n",
              "\n",
              "    .dataframe thead th {\n",
              "        text-align: right;\n",
              "    }\n",
              "</style>\n",
              "<table border=\"1\" class=\"dataframe\">\n",
              "  <thead>\n",
              "    <tr style=\"text-align: right;\">\n",
              "      <th></th>\n",
              "      <th>sentiment</th>\n",
              "      <th>tweetid</th>\n",
              "      <th>tweet_len</th>\n",
              "    </tr>\n",
              "  </thead>\n",
              "  <tbody>\n",
              "    <tr>\n",
              "      <th>sentiment</th>\n",
              "      <td>1.000000</td>\n",
              "      <td>-0.003758</td>\n",
              "      <td>0.005240</td>\n",
              "    </tr>\n",
              "    <tr>\n",
              "      <th>tweetid</th>\n",
              "      <td>-0.003758</td>\n",
              "      <td>1.000000</td>\n",
              "      <td>0.006307</td>\n",
              "    </tr>\n",
              "    <tr>\n",
              "      <th>tweet_len</th>\n",
              "      <td>0.005240</td>\n",
              "      <td>0.006307</td>\n",
              "      <td>1.000000</td>\n",
              "    </tr>\n",
              "  </tbody>\n",
              "</table>\n",
              "</div>"
            ],
            "text/plain": [
              "           sentiment   tweetid  tweet_len\n",
              "sentiment   1.000000 -0.003758   0.005240\n",
              "tweetid    -0.003758  1.000000   0.006307\n",
              "tweet_len   0.005240  0.006307   1.000000"
            ]
          },
          "metadata": {
            "tags": []
          },
          "execution_count": 11
        }
      ]
    },
    {
      "cell_type": "code",
      "metadata": {
        "colab": {
          "base_uri": "https://localhost:8080/"
        },
        "id": "hl8pyEWOpzso",
        "outputId": "93276df3-2fca-4d03-b0df-b2f3bbf4ea36"
      },
      "source": [
        "from nltk.tokenize import word_tokenize\n",
        "nltk.download('punkt')\n",
        "\n",
        "for df in [train_clean, test_clean]:\n",
        "  df['tokens'] = df['message'].apply(nltk.word_tokenize) \n"
      ],
      "execution_count": null,
      "outputs": [
        {
          "output_type": "stream",
          "text": [
            "[nltk_data] Downloading package punkt to /root/nltk_data...\n",
            "[nltk_data]   Package punkt is already up-to-date!\n"
          ],
          "name": "stdout"
        }
      ]
    },
    {
      "cell_type": "code",
      "metadata": {
        "colab": {
          "base_uri": "https://localhost:8080/",
          "height": 202
        },
        "id": "uGjsWnS0qhn3",
        "outputId": "669d8889-5e88-413c-bce8-9374f14672d6"
      },
      "source": [
        "train_clean.head()"
      ],
      "execution_count": null,
      "outputs": [
        {
          "output_type": "execute_result",
          "data": {
            "text/html": [
              "<div>\n",
              "<style scoped>\n",
              "    .dataframe tbody tr th:only-of-type {\n",
              "        vertical-align: middle;\n",
              "    }\n",
              "\n",
              "    .dataframe tbody tr th {\n",
              "        vertical-align: top;\n",
              "    }\n",
              "\n",
              "    .dataframe thead th {\n",
              "        text-align: right;\n",
              "    }\n",
              "</style>\n",
              "<table border=\"1\" class=\"dataframe\">\n",
              "  <thead>\n",
              "    <tr style=\"text-align: right;\">\n",
              "      <th></th>\n",
              "      <th>sentiment</th>\n",
              "      <th>message</th>\n",
              "      <th>tweetid</th>\n",
              "      <th>tweet_len</th>\n",
              "      <th>tokens</th>\n",
              "    </tr>\n",
              "  </thead>\n",
              "  <tbody>\n",
              "    <tr>\n",
              "      <th>0</th>\n",
              "      <td>1</td>\n",
              "      <td>polyscimajor epa chief doesn t think carbon di...</td>\n",
              "      <td>625221</td>\n",
              "      <td>135</td>\n",
              "      <td>[polyscimajor, epa, chief, doesn, t, think, ca...</td>\n",
              "    </tr>\n",
              "    <tr>\n",
              "      <th>1</th>\n",
              "      <td>1</td>\n",
              "      <td>it s not like we lack evidence of anthropogeni...</td>\n",
              "      <td>126103</td>\n",
              "      <td>62</td>\n",
              "      <td>[it, s, not, like, we, lack, evidence, of, ant...</td>\n",
              "    </tr>\n",
              "    <tr>\n",
              "      <th>2</th>\n",
              "      <td>2</td>\n",
              "      <td>rt  rawstory  researchers say we have three ye...</td>\n",
              "      <td>698562</td>\n",
              "      <td>130</td>\n",
              "      <td>[rt, rawstory, researchers, say, we, have, thr...</td>\n",
              "    </tr>\n",
              "    <tr>\n",
              "      <th>3</th>\n",
              "      <td>1</td>\n",
              "      <td>todayinmaker  wired        was a pivotal year...</td>\n",
              "      <td>573736</td>\n",
              "      <td>94</td>\n",
              "      <td>[todayinmaker, wired, was, a, pivotal, year, i...</td>\n",
              "    </tr>\n",
              "    <tr>\n",
              "      <th>4</th>\n",
              "      <td>1</td>\n",
              "      <td>rt  soynoviodetodas  it s       and a racist  ...</td>\n",
              "      <td>466954</td>\n",
              "      <td>122</td>\n",
              "      <td>[rt, soynoviodetodas, it, s, and, a, racist, s...</td>\n",
              "    </tr>\n",
              "  </tbody>\n",
              "</table>\n",
              "</div>"
            ],
            "text/plain": [
              "   sentiment  ...                                             tokens\n",
              "0          1  ...  [polyscimajor, epa, chief, doesn, t, think, ca...\n",
              "1          1  ...  [it, s, not, like, we, lack, evidence, of, ant...\n",
              "2          2  ...  [rt, rawstory, researchers, say, we, have, thr...\n",
              "3          1  ...  [todayinmaker, wired, was, a, pivotal, year, i...\n",
              "4          1  ...  [rt, soynoviodetodas, it, s, and, a, racist, s...\n",
              "\n",
              "[5 rows x 5 columns]"
            ]
          },
          "metadata": {
            "tags": []
          },
          "execution_count": 13
        }
      ]
    },
    {
      "cell_type": "code",
      "metadata": {
        "colab": {
          "base_uri": "https://localhost:8080/"
        },
        "id": "1u9aXALWq4g0",
        "outputId": "4be3adfb-46b3-49b9-bb92-0e07be1bcf29"
      },
      "source": [
        "from nltk.corpus import stopwords\n",
        "nltk.download('stopwords')\n",
        "\n",
        "stop_words = set(stopwords.words('english'))\n",
        "stop_words.update(['rt', 'link', 'un', \"n't\"])\n",
        "\n",
        "for df in [train_clean, test_clean]:\n",
        "  df['tokens'] = df['tokens'].apply(lambda x: [item for item in x if not item in stop_words])"
      ],
      "execution_count": null,
      "outputs": [
        {
          "output_type": "stream",
          "text": [
            "[nltk_data] Downloading package stopwords to /root/nltk_data...\n",
            "[nltk_data]   Package stopwords is already up-to-date!\n"
          ],
          "name": "stdout"
        }
      ]
    },
    {
      "cell_type": "code",
      "metadata": {
        "colab": {
          "base_uri": "https://localhost:8080/",
          "height": 416
        },
        "id": "YdHsBShkrJOa",
        "outputId": "bfc89d04-bb4d-4f20-ebc5-f39ba303ed18"
      },
      "source": [
        "train_clean"
      ],
      "execution_count": null,
      "outputs": [
        {
          "output_type": "execute_result",
          "data": {
            "text/html": [
              "<div>\n",
              "<style scoped>\n",
              "    .dataframe tbody tr th:only-of-type {\n",
              "        vertical-align: middle;\n",
              "    }\n",
              "\n",
              "    .dataframe tbody tr th {\n",
              "        vertical-align: top;\n",
              "    }\n",
              "\n",
              "    .dataframe thead th {\n",
              "        text-align: right;\n",
              "    }\n",
              "</style>\n",
              "<table border=\"1\" class=\"dataframe\">\n",
              "  <thead>\n",
              "    <tr style=\"text-align: right;\">\n",
              "      <th></th>\n",
              "      <th>sentiment</th>\n",
              "      <th>message</th>\n",
              "      <th>tweetid</th>\n",
              "      <th>tweet_len</th>\n",
              "      <th>tokens</th>\n",
              "    </tr>\n",
              "  </thead>\n",
              "  <tbody>\n",
              "    <tr>\n",
              "      <th>0</th>\n",
              "      <td>1</td>\n",
              "      <td>polyscimajor epa chief doesn t think carbon di...</td>\n",
              "      <td>625221</td>\n",
              "      <td>135</td>\n",
              "      <td>[polyscimajor, epa, chief, think, carbon, diox...</td>\n",
              "    </tr>\n",
              "    <tr>\n",
              "      <th>1</th>\n",
              "      <td>1</td>\n",
              "      <td>it s not like we lack evidence of anthropogeni...</td>\n",
              "      <td>126103</td>\n",
              "      <td>62</td>\n",
              "      <td>[like, lack, evidence, anthropogenic, global, ...</td>\n",
              "    </tr>\n",
              "    <tr>\n",
              "      <th>2</th>\n",
              "      <td>2</td>\n",
              "      <td>rt  rawstory  researchers say we have three ye...</td>\n",
              "      <td>698562</td>\n",
              "      <td>130</td>\n",
              "      <td>[rawstory, researchers, say, three, years, act...</td>\n",
              "    </tr>\n",
              "    <tr>\n",
              "      <th>3</th>\n",
              "      <td>1</td>\n",
              "      <td>todayinmaker  wired        was a pivotal year...</td>\n",
              "      <td>573736</td>\n",
              "      <td>94</td>\n",
              "      <td>[todayinmaker, wired, pivotal, year, war, clim...</td>\n",
              "    </tr>\n",
              "    <tr>\n",
              "      <th>4</th>\n",
              "      <td>1</td>\n",
              "      <td>rt  soynoviodetodas  it s       and a racist  ...</td>\n",
              "      <td>466954</td>\n",
              "      <td>122</td>\n",
              "      <td>[soynoviodetodas, racist, sexist, climate, cha...</td>\n",
              "    </tr>\n",
              "    <tr>\n",
              "      <th>...</th>\n",
              "      <td>...</td>\n",
              "      <td>...</td>\n",
              "      <td>...</td>\n",
              "      <td>...</td>\n",
              "      <td>...</td>\n",
              "    </tr>\n",
              "    <tr>\n",
              "      <th>15814</th>\n",
              "      <td>1</td>\n",
              "      <td>rt  ezlusztig  they took down the material on ...</td>\n",
              "      <td>22001</td>\n",
              "      <td>135</td>\n",
              "      <td>[ezlusztig, took, material, global, warming, l...</td>\n",
              "    </tr>\n",
              "    <tr>\n",
              "      <th>15815</th>\n",
              "      <td>2</td>\n",
              "      <td>rt  washingtonpost  how climate change could b...</td>\n",
              "      <td>17856</td>\n",
              "      <td>114</td>\n",
              "      <td>[washingtonpost, climate, change, could, break...</td>\n",
              "    </tr>\n",
              "    <tr>\n",
              "      <th>15816</th>\n",
              "      <td>0</td>\n",
              "      <td>notiven  rt  nytimesworld  what does trump act...</td>\n",
              "      <td>384248</td>\n",
              "      <td>128</td>\n",
              "      <td>[notiven, nytimesworld, trump, actually, belie...</td>\n",
              "    </tr>\n",
              "    <tr>\n",
              "      <th>15817</th>\n",
              "      <td>-1</td>\n",
              "      <td>rt  sara smiles  hey liberals the climate chan...</td>\n",
              "      <td>819732</td>\n",
              "      <td>128</td>\n",
              "      <td>[sara, smiles, hey, liberals, climate, change,...</td>\n",
              "    </tr>\n",
              "    <tr>\n",
              "      <th>15818</th>\n",
              "      <td>0</td>\n",
              "      <td>rt  chet cannon    kurteichenwald s  climate c...</td>\n",
              "      <td>806319</td>\n",
              "      <td>97</td>\n",
              "      <td>[chet, cannon, kurteichenwald, climate, change...</td>\n",
              "    </tr>\n",
              "  </tbody>\n",
              "</table>\n",
              "<p>15819 rows × 5 columns</p>\n",
              "</div>"
            ],
            "text/plain": [
              "       sentiment  ...                                             tokens\n",
              "0              1  ...  [polyscimajor, epa, chief, think, carbon, diox...\n",
              "1              1  ...  [like, lack, evidence, anthropogenic, global, ...\n",
              "2              2  ...  [rawstory, researchers, say, three, years, act...\n",
              "3              1  ...  [todayinmaker, wired, pivotal, year, war, clim...\n",
              "4              1  ...  [soynoviodetodas, racist, sexist, climate, cha...\n",
              "...          ...  ...                                                ...\n",
              "15814          1  ...  [ezlusztig, took, material, global, warming, l...\n",
              "15815          2  ...  [washingtonpost, climate, change, could, break...\n",
              "15816          0  ...  [notiven, nytimesworld, trump, actually, belie...\n",
              "15817         -1  ...  [sara, smiles, hey, liberals, climate, change,...\n",
              "15818          0  ...  [chet, cannon, kurteichenwald, climate, change...\n",
              "\n",
              "[15819 rows x 5 columns]"
            ]
          },
          "metadata": {
            "tags": []
          },
          "execution_count": 15
        }
      ]
    },
    {
      "cell_type": "code",
      "metadata": {
        "id": "S8d1tfHWrsVM"
      },
      "source": [
        "#Using stemming for normalisation \n",
        "from nltk.stem.porter import PorterStemmer\n",
        "porter  = PorterStemmer()\n",
        "\n",
        "for df in [train_clean, test_clean]:\n",
        "  df['stems'] = df['tokens'].apply(lambda x: [porter.stem(t) for t in x])"
      ],
      "execution_count": null,
      "outputs": []
    },
    {
      "cell_type": "code",
      "metadata": {
        "colab": {
          "base_uri": "https://localhost:8080/",
          "height": 416
        },
        "id": "5hFiDMGasjBU",
        "outputId": "b707807f-b11d-4417-d47b-9a6a46d5539c"
      },
      "source": [
        "train_clean"
      ],
      "execution_count": null,
      "outputs": [
        {
          "output_type": "execute_result",
          "data": {
            "text/html": [
              "<div>\n",
              "<style scoped>\n",
              "    .dataframe tbody tr th:only-of-type {\n",
              "        vertical-align: middle;\n",
              "    }\n",
              "\n",
              "    .dataframe tbody tr th {\n",
              "        vertical-align: top;\n",
              "    }\n",
              "\n",
              "    .dataframe thead th {\n",
              "        text-align: right;\n",
              "    }\n",
              "</style>\n",
              "<table border=\"1\" class=\"dataframe\">\n",
              "  <thead>\n",
              "    <tr style=\"text-align: right;\">\n",
              "      <th></th>\n",
              "      <th>sentiment</th>\n",
              "      <th>message</th>\n",
              "      <th>tweetid</th>\n",
              "      <th>tweet_len</th>\n",
              "      <th>tokens</th>\n",
              "      <th>stems</th>\n",
              "    </tr>\n",
              "  </thead>\n",
              "  <tbody>\n",
              "    <tr>\n",
              "      <th>0</th>\n",
              "      <td>1</td>\n",
              "      <td>polyscimajor epa chief doesn t think carbon di...</td>\n",
              "      <td>625221</td>\n",
              "      <td>135</td>\n",
              "      <td>[polyscimajor, epa, chief, think, carbon, diox...</td>\n",
              "      <td>[polyscimajor, epa, chief, think, carbon, diox...</td>\n",
              "    </tr>\n",
              "    <tr>\n",
              "      <th>1</th>\n",
              "      <td>1</td>\n",
              "      <td>it s not like we lack evidence of anthropogeni...</td>\n",
              "      <td>126103</td>\n",
              "      <td>62</td>\n",
              "      <td>[like, lack, evidence, anthropogenic, global, ...</td>\n",
              "      <td>[like, lack, evid, anthropogen, global, warm]</td>\n",
              "    </tr>\n",
              "    <tr>\n",
              "      <th>2</th>\n",
              "      <td>2</td>\n",
              "      <td>rt  rawstory  researchers say we have three ye...</td>\n",
              "      <td>698562</td>\n",
              "      <td>130</td>\n",
              "      <td>[rawstory, researchers, say, three, years, act...</td>\n",
              "      <td>[rawstori, research, say, three, year, act, cl...</td>\n",
              "    </tr>\n",
              "    <tr>\n",
              "      <th>3</th>\n",
              "      <td>1</td>\n",
              "      <td>todayinmaker  wired        was a pivotal year...</td>\n",
              "      <td>573736</td>\n",
              "      <td>94</td>\n",
              "      <td>[todayinmaker, wired, pivotal, year, war, clim...</td>\n",
              "      <td>[todayinmak, wire, pivot, year, war, climat, c...</td>\n",
              "    </tr>\n",
              "    <tr>\n",
              "      <th>4</th>\n",
              "      <td>1</td>\n",
              "      <td>rt  soynoviodetodas  it s       and a racist  ...</td>\n",
              "      <td>466954</td>\n",
              "      <td>122</td>\n",
              "      <td>[soynoviodetodas, racist, sexist, climate, cha...</td>\n",
              "      <td>[soynoviodetoda, racist, sexist, climat, chang...</td>\n",
              "    </tr>\n",
              "    <tr>\n",
              "      <th>...</th>\n",
              "      <td>...</td>\n",
              "      <td>...</td>\n",
              "      <td>...</td>\n",
              "      <td>...</td>\n",
              "      <td>...</td>\n",
              "      <td>...</td>\n",
              "    </tr>\n",
              "    <tr>\n",
              "      <th>15814</th>\n",
              "      <td>1</td>\n",
              "      <td>rt  ezlusztig  they took down the material on ...</td>\n",
              "      <td>22001</td>\n",
              "      <td>135</td>\n",
              "      <td>[ezlusztig, took, material, global, warming, l...</td>\n",
              "      <td>[ezlusztig, took, materi, global, warm, lgbt, ...</td>\n",
              "    </tr>\n",
              "    <tr>\n",
              "      <th>15815</th>\n",
              "      <td>2</td>\n",
              "      <td>rt  washingtonpost  how climate change could b...</td>\n",
              "      <td>17856</td>\n",
              "      <td>114</td>\n",
              "      <td>[washingtonpost, climate, change, could, break...</td>\n",
              "      <td>[washingtonpost, climat, chang, could, break, ...</td>\n",
              "    </tr>\n",
              "    <tr>\n",
              "      <th>15816</th>\n",
              "      <td>0</td>\n",
              "      <td>notiven  rt  nytimesworld  what does trump act...</td>\n",
              "      <td>384248</td>\n",
              "      <td>128</td>\n",
              "      <td>[notiven, nytimesworld, trump, actually, belie...</td>\n",
              "      <td>[notiven, nytimesworld, trump, actual, believ,...</td>\n",
              "    </tr>\n",
              "    <tr>\n",
              "      <th>15817</th>\n",
              "      <td>-1</td>\n",
              "      <td>rt  sara smiles  hey liberals the climate chan...</td>\n",
              "      <td>819732</td>\n",
              "      <td>128</td>\n",
              "      <td>[sara, smiles, hey, liberals, climate, change,...</td>\n",
              "      <td>[sara, smile, hey, liber, climat, chang, crap,...</td>\n",
              "    </tr>\n",
              "    <tr>\n",
              "      <th>15818</th>\n",
              "      <td>0</td>\n",
              "      <td>rt  chet cannon    kurteichenwald s  climate c...</td>\n",
              "      <td>806319</td>\n",
              "      <td>97</td>\n",
              "      <td>[chet, cannon, kurteichenwald, climate, change...</td>\n",
              "      <td>[chet, cannon, kurteichenwald, climat, chang, ...</td>\n",
              "    </tr>\n",
              "  </tbody>\n",
              "</table>\n",
              "<p>15819 rows × 6 columns</p>\n",
              "</div>"
            ],
            "text/plain": [
              "       sentiment  ...                                              stems\n",
              "0              1  ...  [polyscimajor, epa, chief, think, carbon, diox...\n",
              "1              1  ...      [like, lack, evid, anthropogen, global, warm]\n",
              "2              2  ...  [rawstori, research, say, three, year, act, cl...\n",
              "3              1  ...  [todayinmak, wire, pivot, year, war, climat, c...\n",
              "4              1  ...  [soynoviodetoda, racist, sexist, climat, chang...\n",
              "...          ...  ...                                                ...\n",
              "15814          1  ...  [ezlusztig, took, materi, global, warm, lgbt, ...\n",
              "15815          2  ...  [washingtonpost, climat, chang, could, break, ...\n",
              "15816          0  ...  [notiven, nytimesworld, trump, actual, believ,...\n",
              "15817         -1  ...  [sara, smile, hey, liber, climat, chang, crap,...\n",
              "15818          0  ...  [chet, cannon, kurteichenwald, climat, chang, ...\n",
              "\n",
              "[15819 rows x 6 columns]"
            ]
          },
          "metadata": {
            "tags": []
          },
          "execution_count": 17
        }
      ]
    },
    {
      "cell_type": "code",
      "metadata": {
        "id": "y51j9qxfszt8"
      },
      "source": [
        "# Join all the stemmed words to sentences\n",
        "for df in [train_clean, test_clean]:  \n",
        "  df['sentences'] = df['stems'].apply(lambda x: [\" \".join(w for w in x)])\n"
      ],
      "execution_count": null,
      "outputs": []
    },
    {
      "cell_type": "code",
      "metadata": {
        "colab": {
          "base_uri": "https://localhost:8080/",
          "height": 572
        },
        "id": "tj3UfVnfs7pU",
        "outputId": "0de448bc-7712-44da-ee55-6796fd035d46"
      },
      "source": [
        "test_clean"
      ],
      "execution_count": null,
      "outputs": [
        {
          "output_type": "execute_result",
          "data": {
            "text/html": [
              "<div>\n",
              "<style scoped>\n",
              "    .dataframe tbody tr th:only-of-type {\n",
              "        vertical-align: middle;\n",
              "    }\n",
              "\n",
              "    .dataframe tbody tr th {\n",
              "        vertical-align: top;\n",
              "    }\n",
              "\n",
              "    .dataframe thead th {\n",
              "        text-align: right;\n",
              "    }\n",
              "</style>\n",
              "<table border=\"1\" class=\"dataframe\">\n",
              "  <thead>\n",
              "    <tr style=\"text-align: right;\">\n",
              "      <th></th>\n",
              "      <th>message</th>\n",
              "      <th>tweetid</th>\n",
              "      <th>tweet_len</th>\n",
              "      <th>tokens</th>\n",
              "      <th>stems</th>\n",
              "      <th>sentences</th>\n",
              "    </tr>\n",
              "  </thead>\n",
              "  <tbody>\n",
              "    <tr>\n",
              "      <th>0</th>\n",
              "      <td>europe will now be looking to china to make su...</td>\n",
              "      <td>169760</td>\n",
              "      <td>116</td>\n",
              "      <td>[europe, looking, china, make, sure, alone, fi...</td>\n",
              "      <td>[europ, look, china, make, sure, alon, fight, ...</td>\n",
              "      <td>[europ look china make sure alon fight climat ...</td>\n",
              "    </tr>\n",
              "    <tr>\n",
              "      <th>1</th>\n",
              "      <td>combine this with the polling of staffers re c...</td>\n",
              "      <td>35326</td>\n",
              "      <td>127</td>\n",
              "      <td>[combine, polling, staffers, climate, change, ...</td>\n",
              "      <td>[combin, poll, staffer, climat, chang, women, ...</td>\n",
              "      <td>[combin poll staffer climat chang women right ...</td>\n",
              "    </tr>\n",
              "    <tr>\n",
              "      <th>2</th>\n",
              "      <td>the scary  unimpeachable evidence that climate...</td>\n",
              "      <td>224985</td>\n",
              "      <td>134</td>\n",
              "      <td>[scary, unimpeachable, evidence, climate, chan...</td>\n",
              "      <td>[scari, unimpeach, evid, climat, chang, alread...</td>\n",
              "      <td>[scari unimpeach evid climat chang alreadi co ...</td>\n",
              "    </tr>\n",
              "    <tr>\n",
              "      <th>3</th>\n",
              "      <td>karoli  morgfair  osborneink  dailykos  putin...</td>\n",
              "      <td>476263</td>\n",
              "      <td>136</td>\n",
              "      <td>[karoli, morgfair, osborneink, dailykos, putin...</td>\n",
              "      <td>[karoli, morgfair, osborneink, dailyko, putin,...</td>\n",
              "      <td>[karoli morgfair osborneink dailyko putin got ...</td>\n",
              "    </tr>\n",
              "    <tr>\n",
              "      <th>4</th>\n",
              "      <td>rt  fakewillmoore   female orgasms cause globa...</td>\n",
              "      <td>872928</td>\n",
              "      <td>79</td>\n",
              "      <td>[fakewillmoore, female, orgasms, cause, global...</td>\n",
              "      <td>[fakewillmoor, femal, orgasm, caus, global, wa...</td>\n",
              "      <td>[fakewillmoor femal orgasm caus global warm sa...</td>\n",
              "    </tr>\n",
              "    <tr>\n",
              "      <th>...</th>\n",
              "      <td>...</td>\n",
              "      <td>...</td>\n",
              "      <td>...</td>\n",
              "      <td>...</td>\n",
              "      <td>...</td>\n",
              "      <td>...</td>\n",
              "    </tr>\n",
              "    <tr>\n",
              "      <th>10541</th>\n",
              "      <td>rt  brittanybohrer  brb  writing a poem about ...</td>\n",
              "      <td>895714</td>\n",
              "      <td>135</td>\n",
              "      <td>[brittanybohrer, brb, writing, poem, climate, ...</td>\n",
              "      <td>[brittanybohr, brb, write, poem, climat, chang...</td>\n",
              "      <td>[brittanybohr brb write poem climat chang clim...</td>\n",
              "    </tr>\n",
              "    <tr>\n",
              "      <th>10542</th>\n",
              "      <td>the year climate change came home  durin...</td>\n",
              "      <td>875167</td>\n",
              "      <td>132</td>\n",
              "      <td>[year, climate, change, came, home, hottest, y...</td>\n",
              "      <td>[year, climat, chang, came, home, hottest, yea...</td>\n",
              "      <td>[year climat chang came home hottest year reco...</td>\n",
              "    </tr>\n",
              "    <tr>\n",
              "      <th>10543</th>\n",
              "      <td>rt  loop vanuatu  pacific countries positive a...</td>\n",
              "      <td>78329</td>\n",
              "      <td>132</td>\n",
              "      <td>[loop, vanuatu, pacific, countries, positive, ...</td>\n",
              "      <td>[loop, vanuatu, pacif, countri, posit, fiji, l...</td>\n",
              "      <td>[loop vanuatu pacif countri posit fiji lead gl...</td>\n",
              "    </tr>\n",
              "    <tr>\n",
              "      <th>10544</th>\n",
              "      <td>rt  xanria        you re so hot  you must be t...</td>\n",
              "      <td>867455</td>\n",
              "      <td>110</td>\n",
              "      <td>[xanria, hot, must, cause, global, warming, al...</td>\n",
              "      <td>[xanria, hot, must, caus, global, warm, aldubl...</td>\n",
              "      <td>[xanria hot must caus global warm aldublaborof...</td>\n",
              "    </tr>\n",
              "    <tr>\n",
              "      <th>10545</th>\n",
              "      <td>rt  chloebalaoing  climate change is a global ...</td>\n",
              "      <td>470892</td>\n",
              "      <td>135</td>\n",
              "      <td>[chloebalaoing, climate, change, global, issue...</td>\n",
              "      <td>[chloebalao, climat, chang, global, issu, get,...</td>\n",
              "      <td>[chloebalao climat chang global issu get wors ...</td>\n",
              "    </tr>\n",
              "  </tbody>\n",
              "</table>\n",
              "<p>10546 rows × 6 columns</p>\n",
              "</div>"
            ],
            "text/plain": [
              "                                                 message  ...                                          sentences\n",
              "0      europe will now be looking to china to make su...  ...  [europ look china make sure alon fight climat ...\n",
              "1      combine this with the polling of staffers re c...  ...  [combin poll staffer climat chang women right ...\n",
              "2      the scary  unimpeachable evidence that climate...  ...  [scari unimpeach evid climat chang alreadi co ...\n",
              "3       karoli  morgfair  osborneink  dailykos  putin...  ...  [karoli morgfair osborneink dailyko putin got ...\n",
              "4      rt  fakewillmoore   female orgasms cause globa...  ...  [fakewillmoor femal orgasm caus global warm sa...\n",
              "...                                                  ...  ...                                                ...\n",
              "10541  rt  brittanybohrer  brb  writing a poem about ...  ...  [brittanybohr brb write poem climat chang clim...\n",
              "10542        the year climate change came home  durin...  ...  [year climat chang came home hottest year reco...\n",
              "10543  rt  loop vanuatu  pacific countries positive a...  ...  [loop vanuatu pacif countri posit fiji lead gl...\n",
              "10544  rt  xanria        you re so hot  you must be t...  ...  [xanria hot must caus global warm aldublaborof...\n",
              "10545  rt  chloebalaoing  climate change is a global ...  ...  [chloebalao climat chang global issu get wors ...\n",
              "\n",
              "[10546 rows x 6 columns]"
            ]
          },
          "metadata": {
            "tags": []
          },
          "execution_count": 19
        }
      ]
    },
    {
      "cell_type": "code",
      "metadata": {
        "id": "MzTxwxfYt6mD"
      },
      "source": [
        "for df in [train_clean, test_clean]:\n",
        "  df['sentences'] = df['sentences'].apply(str)\n",
        "x_train = train_clean['sentences']\n",
        "y_train  = train_clean['sentiment']\n",
        "\n",
        "x_test = test_clean['sentences']\n"
      ],
      "execution_count": null,
      "outputs": []
    },
    {
      "cell_type": "code",
      "metadata": {
        "colab": {
          "base_uri": "https://localhost:8080/"
        },
        "id": "-lo1p178x1u7",
        "outputId": "d8570892-ba5e-43c1-de22-4961b24ddfe7"
      },
      "source": [
        "x_train"
      ],
      "execution_count": null,
      "outputs": [
        {
          "output_type": "execute_result",
          "data": {
            "text/plain": [
              "0        ['polyscimajor epa chief think carbon dioxid m...\n",
              "1               ['like lack evid anthropogen global warm']\n",
              "2        ['rawstori research say three year act climat ...\n",
              "3        ['todayinmak wire pivot year war climat chang ...\n",
              "4        ['soynoviodetoda racist sexist climat chang de...\n",
              "                               ...                        \n",
              "15814    ['ezlusztig took materi global warm lgbt right...\n",
              "15815    ['washingtonpost climat chang could break mill...\n",
              "15816    ['notiven nytimesworld trump actual believ cli...\n",
              "15817    ['sara smile hey liber climat chang crap hoax ...\n",
              "15818    ['chet cannon kurteichenwald climat chang equa...\n",
              "Name: sentences, Length: 15819, dtype: object"
            ]
          },
          "metadata": {
            "tags": []
          },
          "execution_count": 21
        }
      ]
    },
    {
      "cell_type": "code",
      "metadata": {
        "colab": {
          "base_uri": "https://localhost:8080/"
        },
        "id": "HjbRQ7hOvhzW",
        "outputId": "0cdddb36-9b75-43ba-aac3-8b6583f32fdf"
      },
      "source": [
        "y_train"
      ],
      "execution_count": null,
      "outputs": [
        {
          "output_type": "execute_result",
          "data": {
            "text/plain": [
              "0        1\n",
              "1        1\n",
              "2        2\n",
              "3        1\n",
              "4        1\n",
              "        ..\n",
              "15814    1\n",
              "15815    2\n",
              "15816    0\n",
              "15817   -1\n",
              "15818    0\n",
              "Name: sentiment, Length: 15819, dtype: int64"
            ]
          },
          "metadata": {
            "tags": []
          },
          "execution_count": 22
        }
      ]
    },
    {
      "cell_type": "code",
      "metadata": {
        "colab": {
          "base_uri": "https://localhost:8080/"
        },
        "id": "C-_p1bfwvKJ2",
        "outputId": "7ae90113-3fa2-4a82-d3f5-633d92a1433e"
      },
      "source": [
        "#use BOW to extract features\n",
        "from sklearn.feature_extraction.text import CountVectorizer, TfidfVectorizer\n",
        "\n",
        "count_vectorizer = CountVectorizer()\n",
        "\n",
        "\n",
        "x_train_count = count_vectorizer.fit_transform(x_train)\n",
        "x_test_count = count_vectorizer.transform(x_test)\n",
        "\n",
        "print(x_train_count)"
      ],
      "execution_count": null,
      "outputs": [
        {
          "output_type": "stream",
          "text": [
            "  (0, 18424)\t1\n",
            "  (0, 6878)\t1\n",
            "  (0, 3616)\t1\n",
            "  (0, 23633)\t1\n",
            "  (0, 3136)\t1\n",
            "  (0, 5561)\t1\n",
            "  (0, 14344)\t1\n",
            "  (0, 3255)\t1\n",
            "  (0, 8873)\t1\n",
            "  (0, 25891)\t1\n",
            "  (0, 25848)\t1\n",
            "  (0, 4079)\t1\n",
            "  (0, 27321)\t1\n",
            "  (0, 25416)\t1\n",
            "  (0, 14572)\t1\n",
            "  (1, 8873)\t1\n",
            "  (1, 25891)\t1\n",
            "  (1, 13746)\t1\n",
            "  (1, 13269)\t1\n",
            "  (1, 7133)\t1\n",
            "  (1, 998)\t1\n",
            "  (2, 4079)\t2\n",
            "  (2, 19628)\t1\n",
            "  (2, 20018)\t1\n",
            "  (2, 21087)\t1\n",
            "  :\t:\n",
            "  (15816, 15517)\t1\n",
            "  (15816, 453)\t1\n",
            "  (15816, 199)\t1\n",
            "  (15816, 16799)\t1\n",
            "  (15816, 16532)\t1\n",
            "  (15817, 3914)\t2\n",
            "  (15817, 3502)\t2\n",
            "  (15817, 9906)\t1\n",
            "  (15817, 10139)\t1\n",
            "  (15817, 387)\t1\n",
            "  (15817, 13696)\t1\n",
            "  (15817, 21014)\t1\n",
            "  (15817, 23722)\t1\n",
            "  (15817, 4546)\t1\n",
            "  (15817, 22006)\t1\n",
            "  (15818, 4079)\t1\n",
            "  (15818, 3914)\t1\n",
            "  (15818, 3502)\t1\n",
            "  (15818, 13154)\t1\n",
            "  (15818, 6917)\t1\n",
            "  (15818, 14062)\t1\n",
            "  (15818, 3600)\t1\n",
            "  (15818, 3099)\t1\n",
            "  (15818, 21263)\t1\n",
            "  (15818, 25080)\t1\n"
          ],
          "name": "stdout"
        }
      ]
    },
    {
      "cell_type": "code",
      "metadata": {
        "colab": {
          "base_uri": "https://localhost:8080/"
        },
        "id": "N7uieSQ2xrWB",
        "outputId": "c7060462-ad49-42ca-94d9-03c8730a99e4"
      },
      "source": [
        "from sklearn.linear_model import LogisticRegression\n",
        "\n",
        "clf_count = LogisticRegression(C=1.0, class_weight='balanced', solver='liblinear', n_jobs=-1, random_state=123)\n",
        "clf_count.fit(x_train_count, y_train)\n",
        "\n",
        "y_pred_count = clf_count.predict(x_test_count)"
      ],
      "execution_count": null,
      "outputs": [
        {
          "output_type": "stream",
          "text": [
            "/usr/local/lib/python3.7/dist-packages/sklearn/linear_model/_logistic.py:1539: UserWarning: 'n_jobs' > 1 does not have any effect when 'solver' is set to 'liblinear'. Got 'n_jobs' = 2.\n",
            "  \" = {}.\".format(effective_n_jobs(self.n_jobs)))\n"
          ],
          "name": "stderr"
        }
      ]
    },
    {
      "cell_type": "code",
      "metadata": {
        "id": "pW6U7SCE0A9f"
      },
      "source": [
        "sub[\"sentiment\"] = y_pred_count\n",
        "\n",
        "sub.to_csv(\"/content/drive/MyDrive/twee_analysis_EDSA/clf.csv\", index=False)"
      ],
      "execution_count": null,
      "outputs": []
    },
    {
      "cell_type": "code",
      "metadata": {
        "colab": {
          "base_uri": "https://localhost:8080/"
        },
        "id": "vPP4m8h8z8cL",
        "outputId": "015b8855-89e8-484a-a02c-bd77e9224b12"
      },
      "source": [
        "y_pred_count"
      ],
      "execution_count": null,
      "outputs": [
        {
          "output_type": "execute_result",
          "data": {
            "text/plain": [
              "array([1, 0, 1, ..., 2, 0, 1])"
            ]
          },
          "metadata": {
            "tags": []
          },
          "execution_count": 26
        }
      ]
    },
    {
      "cell_type": "code",
      "metadata": {
        "colab": {
          "base_uri": "https://localhost:8080/"
        },
        "id": "qpb_iSzgzIvg",
        "outputId": "a4790bd5-46e9-4662-f0b9-22442ceaabdf"
      },
      "source": [
        "sub"
      ],
      "execution_count": null,
      "outputs": [
        {
          "output_type": "execute_result",
          "data": {
            "text/html": [
              "<div>\n",
              "<style scoped>\n",
              "    .dataframe tbody tr th:only-of-type {\n",
              "        vertical-align: middle;\n",
              "    }\n",
              "\n",
              "    .dataframe tbody tr th {\n",
              "        vertical-align: top;\n",
              "    }\n",
              "\n",
              "    .dataframe thead th {\n",
              "        text-align: right;\n",
              "    }\n",
              "</style>\n",
              "<table border=\"1\" class=\"dataframe\">\n",
              "  <thead>\n",
              "    <tr style=\"text-align: right;\">\n",
              "      <th></th>\n",
              "      <th>tweetid</th>\n",
              "      <th>sentiment</th>\n",
              "    </tr>\n",
              "  </thead>\n",
              "  <tbody>\n",
              "    <tr>\n",
              "      <th>0</th>\n",
              "      <td>169760</td>\n",
              "      <td>1</td>\n",
              "    </tr>\n",
              "    <tr>\n",
              "      <th>1</th>\n",
              "      <td>35326</td>\n",
              "      <td>0</td>\n",
              "    </tr>\n",
              "    <tr>\n",
              "      <th>2</th>\n",
              "      <td>224985</td>\n",
              "      <td>1</td>\n",
              "    </tr>\n",
              "    <tr>\n",
              "      <th>3</th>\n",
              "      <td>476263</td>\n",
              "      <td>1</td>\n",
              "    </tr>\n",
              "    <tr>\n",
              "      <th>4</th>\n",
              "      <td>872928</td>\n",
              "      <td>0</td>\n",
              "    </tr>\n",
              "    <tr>\n",
              "      <th>...</th>\n",
              "      <td>...</td>\n",
              "      <td>...</td>\n",
              "    </tr>\n",
              "    <tr>\n",
              "      <th>10541</th>\n",
              "      <td>895714</td>\n",
              "      <td>1</td>\n",
              "    </tr>\n",
              "    <tr>\n",
              "      <th>10542</th>\n",
              "      <td>875167</td>\n",
              "      <td>1</td>\n",
              "    </tr>\n",
              "    <tr>\n",
              "      <th>10543</th>\n",
              "      <td>78329</td>\n",
              "      <td>2</td>\n",
              "    </tr>\n",
              "    <tr>\n",
              "      <th>10544</th>\n",
              "      <td>867455</td>\n",
              "      <td>0</td>\n",
              "    </tr>\n",
              "    <tr>\n",
              "      <th>10545</th>\n",
              "      <td>470892</td>\n",
              "      <td>1</td>\n",
              "    </tr>\n",
              "  </tbody>\n",
              "</table>\n",
              "<p>10546 rows × 2 columns</p>\n",
              "</div>"
            ],
            "text/plain": [
              "       tweetid  sentiment\n",
              "0       169760          1\n",
              "1        35326          0\n",
              "2       224985          1\n",
              "3       476263          1\n",
              "4       872928          0\n",
              "...        ...        ...\n",
              "10541   895714          1\n",
              "10542   875167          1\n",
              "10543    78329          2\n",
              "10544   867455          0\n",
              "10545   470892          1\n",
              "\n",
              "[10546 rows x 2 columns]"
            ]
          },
          "metadata": {
            "tags": []
          },
          "execution_count": 27
        }
      ]
    },
    {
      "cell_type": "code",
      "metadata": {
        "id": "l9PxABvky_4j"
      },
      "source": [
        ""
      ],
      "execution_count": null,
      "outputs": []
    },
    {
      "cell_type": "markdown",
      "metadata": {
        "id": "d1L9_WJZxrNO"
      },
      "source": [
        ""
      ]
    },
    {
      "cell_type": "code",
      "metadata": {
        "id": "m0scMFoEuqf5"
      },
      "source": [
        "# evaluate the result\n",
        "from sklearn.metrics import accuracy_score, f1_score, precision_score, recall_score, classification_report\n",
        "\n",
        "def get_metrics(y_test, y_predicted):  \n",
        "    # true positives / (true positives+false positives)\n",
        "    precision = precision_score(y_test, y_predicted, pos_label=None,\n",
        "                                    average='weighted')             \n",
        "    # true positives / (true positives + false negatives)\n",
        "    recall = recall_score(y_test, y_predicted, pos_label=None,\n",
        "                              average='weighted')\n",
        "    \n",
        "    # harmonic mean of precision and recall\n",
        "    f1 = f1_score(y_test, y_predicted, pos_label=None, average='weighted')\n",
        "    \n",
        "    # true positives + true negatives/ total\n",
        "    accuracy = accuracy_score(y_test, y_predicted)\n",
        "    return accuracy, precision, recall, f1\n",
        "\n"
      ],
      "execution_count": null,
      "outputs": []
    },
    {
      "cell_type": "code",
      "metadata": {
        "colab": {
          "base_uri": "https://localhost:8080/"
        },
        "id": "sBV8Sc5X2Vq6",
        "outputId": "400e9a98-451e-466c-bd22-35102420422a"
      },
      "source": [
        "# get the most important words\n",
        "def get_most_important_features(vectorizer, model, n=5):\n",
        "    index_to_word = {v:k for k,v in vectorizer.vocabulary_.items()}\n",
        "    \n",
        "    # loop for each class\n",
        "    classes ={}\n",
        "    for class_index in range(model.coef_.shape[0]):\n",
        "        word_importances = [(el, index_to_word[i]) for i,el in enumerate(model.coef_[class_index])]\n",
        "        sorted_coeff = sorted(word_importances, key = lambda x : x[0], reverse=True)\n",
        "        tops = sorted(sorted_coeff[:n], key = lambda x : x[0])\n",
        "        bottom = sorted_coeff[-n:]\n",
        "        classes[class_index] = {\n",
        "            'tops':tops,\n",
        "            'bottom':bottom\n",
        "        }\n",
        "    return classes\n",
        "\n",
        "importance = get_most_important_features(count_vectorizer, clf_count, 10)\n",
        "importance"
      ],
      "execution_count": null,
      "outputs": [
        {
          "output_type": "execute_result",
          "data": {
            "text/plain": [
              "{0: {'bottom': [(-1.4155926962721113, 'address'),\n",
              "   (-1.4387760595973833, 'care'),\n",
              "   (-1.470292777731371, 'club'),\n",
              "   (-1.5394834837528073, 'republican'),\n",
              "   (-1.5463822250801391, 'action'),\n",
              "   (-1.5817596225750583, 'penguin'),\n",
              "   (-1.687254510460622, 'denial'),\n",
              "   (-1.7784972829529304, 'fight'),\n",
              "   (-2.058429966158949, 'countri'),\n",
              "   (-2.5620224941295677, 'compet')],\n",
              "  'tops': [(2.366561720589346, 'fraud'),\n",
              "   (2.4116067666041943, 'drudg'),\n",
              "   (2.4658669446922605, 'tax'),\n",
              "   (2.6903779558882532, 'ecosensenow'),\n",
              "   (2.7349830001134636, 'maga'),\n",
              "   (2.7944165954219584, 'lefti'),\n",
              "   (3.2475930945810303, 'liber'),\n",
              "   (3.8800723285876653, 'scam'),\n",
              "   (3.900521044068008, 'stevesgoddard'),\n",
              "   (4.165969884060513, 'alarmist')]},\n",
              " 1: {'bottom': [(-1.5586724322702985, 'resist'),\n",
              "   (-1.5969896491051359, 'resourc'),\n",
              "   (-1.6075518535253663, 'sensand'),\n",
              "   (-1.6103470520485827, 'washingtonpost'),\n",
              "   (-1.6426494396866036, 'stevesgoddard'),\n",
              "   (-1.6882611410529877, 'christma'),\n",
              "   (-1.6970782431916418, 'terrifi'),\n",
              "   (-1.978870387938464, 'renew'),\n",
              "   (-2.0962914824609236, 'scam'),\n",
              "   (-2.300423819240109, 'denier')],\n",
              "  'tops': [(1.5396193824249191, 'enviro'),\n",
              "   (1.5526429368358683, 'class'),\n",
              "   (1.56559728410578, 'isnt'),\n",
              "   (1.6430771344806037, 'heard'),\n",
              "   (1.6643798180939433, 'iron'),\n",
              "   (1.6669978329597213, 'wikileak'),\n",
              "   (1.7071376491683232, 'jet'),\n",
              "   (1.7096940737365642, 'fr'),\n",
              "   (1.924050971821704, 'club'),\n",
              "   (2.0631763410426034, 'jedrle')]},\n",
              " 2: {'bottom': [(-1.5208713410567902, 'foxnew'),\n",
              "   (-1.5224899132821739, 'cbsnew'),\n",
              "   (-1.5283193728771252, 'westwingreport'),\n",
              "   (-1.5460403524697757, 'liber'),\n",
              "   (-1.5994975829401, 'scam'),\n",
              "   (-1.602718389605017, 'alarmist'),\n",
              "   (-1.6724015715442648, 'thehil'),\n",
              "   (-1.7155012018730433, 'reuter'),\n",
              "   (-1.7671916150361064, 'lib'),\n",
              "   (-1.8899871995696302, 'stevesgoddard')],\n",
              "  'tops': [(1.5457678121079539, 'christma'),\n",
              "   (1.551839476163191, 'bleach'),\n",
              "   (1.5739224263495515, 'remind'),\n",
              "   (1.5815958360642763, 'resourc'),\n",
              "   (1.6044253373343866, 'epascottpruitt'),\n",
              "   (1.6229202266898148, 'natgeo'),\n",
              "   (2.0261845930408087, 'denial'),\n",
              "   (2.1927581025861, 'actonclim'),\n",
              "   (2.3532092797643367, 'denier'),\n",
              "   (2.3860059410561743, 'compet')]},\n",
              " 3: {'bottom': [(-1.6213484324998633, 'lie'),\n",
              "   (-1.6222718036515338, 'bad'),\n",
              "   (-1.6255412853391793, 'photo'),\n",
              "   (-1.6290336293809102, 'sensand'),\n",
              "   (-1.6376751714850957, 'got'),\n",
              "   (-1.7019109100311822, 'wrong'),\n",
              "   (-1.7355659526110243, 'also'),\n",
              "   (-1.853926186111186, 'actonclim'),\n",
              "   (-2.067146890205245, 'denial'),\n",
              "   (-2.42826713073337, 'denier')],\n",
              "  'tops': [(1.7529758198845344, 'diabet'),\n",
              "   (1.782365846798134, 'pabloroda'),\n",
              "   (1.783940068613392, 'thehil'),\n",
              "   (1.7984634902566285, 'economist'),\n",
              "   (1.8128968641935697, 'theeconomist'),\n",
              "   (1.9364329414385135, 'urg'),\n",
              "   (1.9537888579940763, 'barrier'),\n",
              "   (2.0016955448536136, 'reuter'),\n",
              "   (2.0165242073166048, 'sander'),\n",
              "   (2.110158810827538, 'cbsnew')]}}"
            ]
          },
          "metadata": {
            "tags": []
          },
          "execution_count": 29
        }
      ]
    },
    {
      "cell_type": "code",
      "metadata": {
        "id": "7TfNLEWh2u2O"
      },
      "source": [
        "#use TF-IDF to extract features\n",
        "tfidf_vectorizer = TfidfVectorizer()\n",
        "x_train_tfidf = tfidf_vectorizer.fit_transform(x_train)\n",
        "x_test_tfidf = tfidf_vectorizer.transform(x_test)\n",
        "\n",
        "#fitting a classifier - use logistic regression\n",
        "clf_tfidf = LogisticRegression(C=1.0, class_weight='balanced', n_jobs=-1, random_state=123)\n",
        "clf_tfidf.fit(x_train_tfidf, y_train)\n",
        "\n",
        "y_pred_tfidf = clf_tfidf.predict(x_test_tfidf)"
      ],
      "execution_count": null,
      "outputs": []
    },
    {
      "cell_type": "code",
      "metadata": {
        "id": "SoTz99ul24Ur"
      },
      "source": [
        "sub[\"sentiment\"] = y_pred_tfidf\n",
        "\n",
        "sub.to_csv(\"/content/drive/MyDrive/twee_analysis_EDSA/tfidf.csv\", index=False)"
      ],
      "execution_count": null,
      "outputs": []
    },
    {
      "cell_type": "code",
      "metadata": {
        "id": "gEBs8nA6283x"
      },
      "source": [
        "for c in [1]:\n",
        "    \n",
        "    lr = LogisticRegression(C=c, class_weight='balanced', n_jobs=-1, random_state=123)\n",
        "    lr.fit(x_train_tfidf, y_train)\n",
        "    y_pred_lr = lr.predict(x_test_tfidf)"
      ],
      "execution_count": null,
      "outputs": []
    },
    {
      "cell_type": "code",
      "metadata": {
        "id": "wFMIR4CFfokH"
      },
      "source": [
        "sub[\"sentiment\"] = y_pred_lr\n",
        "\n",
        "sub.to_csv(\"/content/drive/MyDrive/twee_analysis_EDSA/lr.csv\", index=False)"
      ],
      "execution_count": null,
      "outputs": []
    },
    {
      "cell_type": "code",
      "metadata": {
        "colab": {
          "base_uri": "https://localhost:8080/"
        },
        "id": "GG_8COsphSyF",
        "outputId": "c99965de-3962-4804-8af7-f9d6fb8ecea9"
      },
      "source": [
        "#use TF-IDF to extract features\n",
        "tfidf_vectorizer_bigram = TfidfVectorizer(ngram_range=(1, 3))\n",
        "x_train_tfidf_bigram = tfidf_vectorizer_bigram.fit_transform(x_train)\n",
        "x_test_tfidf_bigram = tfidf_vectorizer_bigram.transform(x_test)\n",
        "\n",
        "#fitting a classifier - use logistic regression\n",
        "clf_tfidf_bigram = LogisticRegression(C=20, class_weight='balanced', solver='liblinear', n_jobs=-1, random_state=123)\n",
        "clf_tfidf_bigram.fit(x_train_tfidf_bigram, y_train)\n",
        "\n",
        "y_pred_tfidf_bigram = clf_tfidf_bigram.predict(x_test_tfidf_bigram)"
      ],
      "execution_count": null,
      "outputs": [
        {
          "output_type": "stream",
          "text": [
            "/usr/local/lib/python3.7/dist-packages/sklearn/linear_model/_logistic.py:1539: UserWarning: 'n_jobs' > 1 does not have any effect when 'solver' is set to 'liblinear'. Got 'n_jobs' = 2.\n",
            "  \" = {}.\".format(effective_n_jobs(self.n_jobs)))\n"
          ],
          "name": "stderr"
        }
      ]
    },
    {
      "cell_type": "code",
      "metadata": {
        "id": "T5wD48HVhfZo"
      },
      "source": [
        "sub[\"sentiment\"] = y_pred_tfidf_bigram\n",
        "\n",
        "sub.to_csv(\"/content/drive/MyDrive/twee_analysis_EDSA/bi_gram.csv\", index=False)"
      ],
      "execution_count": null,
      "outputs": []
    },
    {
      "cell_type": "code",
      "metadata": {
        "colab": {
          "base_uri": "https://localhost:8080/",
          "height": 200
        },
        "id": "4vB6ZVLFkmDq",
        "outputId": "14207404-1de6-4bb5-dc8f-15668b69ca98"
      },
      "source": [
        "from sklearn.svm import SVC\n",
        "svc = MultinomialNB()\n",
        "svc.fit(x_train_tfidf_bigram, y_train)\n"
      ],
      "execution_count": null,
      "outputs": [
        {
          "output_type": "error",
          "ename": "NameError",
          "evalue": "ignored",
          "traceback": [
            "\u001b[0;31m---------------------------------------------------------------------------\u001b[0m",
            "\u001b[0;31mNameError\u001b[0m                                 Traceback (most recent call last)",
            "\u001b[0;32m<ipython-input-36-f5824d0fd678>\u001b[0m in \u001b[0;36m<module>\u001b[0;34m()\u001b[0m\n\u001b[1;32m      1\u001b[0m \u001b[0;32mfrom\u001b[0m \u001b[0msklearn\u001b[0m\u001b[0;34m.\u001b[0m\u001b[0msvm\u001b[0m \u001b[0;32mimport\u001b[0m \u001b[0mSVC\u001b[0m\u001b[0;34m\u001b[0m\u001b[0;34m\u001b[0m\u001b[0m\n\u001b[0;32m----> 2\u001b[0;31m \u001b[0msvc\u001b[0m \u001b[0;34m=\u001b[0m \u001b[0mMultinomialNB\u001b[0m\u001b[0;34m(\u001b[0m\u001b[0;34m)\u001b[0m\u001b[0;34m\u001b[0m\u001b[0;34m\u001b[0m\u001b[0m\n\u001b[0m\u001b[1;32m      3\u001b[0m \u001b[0msvc\u001b[0m\u001b[0;34m.\u001b[0m\u001b[0mfit\u001b[0m\u001b[0;34m(\u001b[0m\u001b[0mx_train_tfidf_bigram\u001b[0m\u001b[0;34m,\u001b[0m \u001b[0my_train\u001b[0m\u001b[0;34m)\u001b[0m\u001b[0;34m\u001b[0m\u001b[0;34m\u001b[0m\u001b[0m\n",
            "\u001b[0;31mNameError\u001b[0m: name 'MultinomialNB' is not defined"
          ]
        }
      ]
    },
    {
      "cell_type": "code",
      "metadata": {
        "id": "iycdSQGfXgyA"
      },
      "source": [
        "y_svc = svc.predict(x_test_tfidf_bigram)"
      ],
      "execution_count": null,
      "outputs": []
    },
    {
      "cell_type": "code",
      "metadata": {
        "id": "iHNbxf35RWxu"
      },
      "source": [
        "sub[\"sentiment\"] = y_svc\n",
        "\n",
        "sub.to_csv(\"/content/drive/MyDrive/twee_analysis_EDSA/svc.csv\", index=False)"
      ],
      "execution_count": null,
      "outputs": []
    },
    {
      "cell_type": "code",
      "metadata": {
        "id": "E9wzqNdtkMfR"
      },
      "source": [
        "from sklearn.pipeline import Pipeline\n",
        "from sklearn.naive_bayes import MultinomialNB\n",
        "from sklearn.feature_extraction.text import CountVectorizer, TfidfTransformer\n",
        "from sklearn.ensemble import RandomForestClassifier"
      ],
      "execution_count": null,
      "outputs": []
    },
    {
      "cell_type": "code",
      "metadata": {
        "id": "3ndZAg5pkQmx"
      },
      "source": [
        "pipeline = Pipeline([\n",
        "    ('bow',CountVectorizer()),  # strings to token integer counts\n",
        "    ('tfidf', TfidfTransformer()), \n",
        "    ('count', FunctionTransformer(get_text_length, validate=False)), # integer counts to weighted TF-IDF scores\n",
        "    ('clf', LogisticRegression(C=1.0, class_weight='balanced', n_jobs=-1, random_state=123))])"
      ],
      "execution_count": null,
      "outputs": []
    },
    {
      "cell_type": "code",
      "metadata": {
        "id": "pyftdIr8kffz"
      },
      "source": [
        "pipeline.fit(x_train,y_train)\n",
        "predictions = pipeline.predict(x_test)"
      ],
      "execution_count": null,
      "outputs": []
    },
    {
      "cell_type": "markdown",
      "metadata": {
        "id": "0-zRKV-YffjS"
      },
      "source": [
        ""
      ]
    },
    {
      "cell_type": "code",
      "metadata": {
        "id": "h7WR-GZRlIcV"
      },
      "source": [
        "sub[\"sentiment\"] = predictions\n",
        "\n",
        "sub.to_csv(\"/content/drive/MyDrive/twee_analysis_EDSA/pipe.csv\", index=False)"
      ],
      "execution_count": null,
      "outputs": []
    },
    {
      "cell_type": "code",
      "metadata": {
        "id": "N9aKdsHwwHNq"
      },
      "source": [
        " def get_text_length(x):\n",
        "    return np.array([len(x)]).reshape(-1, 1)\n",
        " \n",
        " FunctionTransformer(get_text_length, validate=False)"
      ],
      "execution_count": null,
      "outputs": []
    },
    {
      "cell_type": "code",
      "metadata": {
        "id": "OG-GuSfwwNS0"
      },
      "source": [
        "get_text_length(['texted','set'])"
      ],
      "execution_count": null,
      "outputs": []
    },
    {
      "cell_type": "code",
      "metadata": {
        "id": "zaD17YWdlM_Y"
      },
      "source": [
        "import numpy as np\n",
        "from sklearn.pipeline import Pipeline, FeatureUnion\n",
        "from sklearn.feature_extraction.text import CountVectorizer\n",
        "from sklearn.svm import LinearSVC\n",
        "from sklearn.feature_extraction.text import TfidfTransformer\n",
        "from sklearn.multiclass import OneVsRestClassifier\n",
        "from sklearn.preprocessing import FunctionTransformer\n"
      ],
      "execution_count": null,
      "outputs": []
    },
    {
      "cell_type": "code",
      "metadata": {
        "id": "2rS0YgQFqCw9"
      },
      "source": [
        "\n",
        "\n",
        "classifier = Pipeline([\n",
        "    ('features', FeatureUnion([\n",
        "        ('text', Pipeline([\n",
        "            ('vectorizer', CountVectorizer()),\n",
        "            ('tfidf', TfidfTransformer()),\n",
        "        ])),\n",
        "        ('length', Pipeline([\n",
        "            ('count', FunctionTransformer(get_text_length, validate=False)),\n",
        "        ]))\n",
        "    ])),\n",
        "    ('clf', LogisticRegression(C=1.0, class_weight='balanced', n_jobs=-1, random_state=123))])\n",
        "\n",
        "classifier.fit(x_train, y_train)\n",
        "predicted = classifier.predict(x_test)"
      ],
      "execution_count": null,
      "outputs": []
    },
    {
      "cell_type": "code",
      "metadata": {
        "id": "Kn5tLXPctI4F"
      },
      "source": [
        "sub[\"sentiment\"] = predicted\n",
        "\n",
        "sub.to_csv(\"/content/drive/MyDrive/twee_analysis_EDSA/union.csv\", index=False)"
      ],
      "execution_count": null,
      "outputs": []
    },
    {
      "cell_type": "code",
      "metadata": {
        "id": "l2u_56rrtRch"
      },
      "source": [
        ""
      ],
      "execution_count": null,
      "outputs": []
    },
    {
      "cell_type": "code",
      "metadata": {
        "id": "V0WaYTFxw_J4"
      },
      "source": [
        "# adding len feature\n",
        "\n",
        "from sklearn.feature_extraction.text import TfidfVectorizer, TfidfTransformer\n",
        "from scipy import sparse\n",
        "\n",
        "tv = TfidfVectorizer()\n",
        "X = tv.fit_transform(x_train)\n",
        "vocab = tv.get_feature_names()\n",
        "\n",
        "X1 = pd.DataFrame(X.toarray(), columns = vocab)\n",
        "X1['len'] = train_clean['tweet_len']\n",
        "\n",
        "\n",
        "X_sparse = sparse.csr_matrix(X1.values)"
      ],
      "execution_count": null,
      "outputs": []
    },
    {
      "cell_type": "code",
      "metadata": {
        "id": "9Hhg9gsTxgkm"
      },
      "source": [
        "tv =TfidfVectorizer(ngram_range=(1, 2))\n",
        "X = tv.fit_transform(x_test)\n",
        "vocab = tv.get_feature_names()\n",
        "\n",
        "X1 = pd.DataFrame(X.toarray(), columns = vocab)\n",
        "X1['len'] = test_clean['tweet_len']\n",
        "\n",
        "\n",
        "X_test_sparse = sparse.csr_matrix(X1.values)"
      ],
      "execution_count": null,
      "outputs": []
    },
    {
      "cell_type": "code",
      "metadata": {
        "colab": {
          "base_uri": "https://localhost:8080/"
        },
        "id": "DU0nW6F_xrh1",
        "outputId": "ac45ec5a-7bcc-4654-a347-da408d09519c"
      },
      "source": [
        "lr= LogisticRegression(C=20, class_weight='balanced', solver='liblinear', n_jobs=-1, random_state=123)\n",
        "\n",
        "lr.fit(X_sparse, y_train)\n",
        "\n",
        "res = lr.predict(X_test_sparse)"
      ],
      "execution_count": null,
      "outputs": [
        {
          "output_type": "stream",
          "text": [
            "/usr/local/lib/python3.7/dist-packages/sklearn/linear_model/_logistic.py:1539: UserWarning: 'n_jobs' > 1 does not have any effect when 'solver' is set to 'liblinear'. Got 'n_jobs' = 2.\n",
            "  \" = {}.\".format(effective_n_jobs(self.n_jobs)))\n"
          ],
          "name": "stderr"
        }
      ]
    },
    {
      "cell_type": "code",
      "metadata": {
        "id": "448fh52_yBpJ"
      },
      "source": [
        "sub[\"sentiment\"] = res\n",
        "\n",
        "sub.to_csv(\"/content/drive/MyDrive/twee_analysis_EDSA/union.csv\", index=False)"
      ],
      "execution_count": null,
      "outputs": []
    },
    {
      "cell_type": "code",
      "metadata": {
        "id": "Osw6_bjuyE97"
      },
      "source": [
        ""
      ],
      "execution_count": null,
      "outputs": []
    }
  ]
}